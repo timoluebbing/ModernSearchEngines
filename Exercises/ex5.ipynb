{
 "cells": [
  {
   "attachments": {},
   "cell_type": "markdown",
   "metadata": {},
   "source": [
    "# INFO 4271 - Exercise 5 - Learning to Rank\n",
    "\n",
    "Issued: May 14, 2024\n",
    "\n",
    "Due: May 27, 2024\n",
    "\n",
    "Please submit this filled sheet via Ilias by the due date.\n",
    "\n",
    "---"
   ]
  },
  {
   "attachments": {},
   "cell_type": "markdown",
   "metadata": {},
   "source": [
    "# 1. Search Result Diversification\n",
    "Search result diversification trades off relevance with topical diversity.\n",
    "\n",
    "Implement the missing functions sketched in the code base. As you change the `l` parameter between `[1.0,0.0]` you will obtain increasingly more diverse result lists."
   ]
  },
  {
   "cell_type": "code",
   "execution_count": 11,
   "metadata": {},
   "outputs": [
    {
     "name": "stdout",
     "output_type": "stream",
     "text": [
      "['The official home of Jaguar USA. Explore our luxury sedans, SUVs and sports cars.', 0.99]\n",
      "['Jaguar has been making luxurious sedans and athletic sports cars for decades, but more recently it has added crossovers and SUVs that continue to perpetuate these trademark attributes.', 0.82]\n",
      "['Jaguar are an English heavy metal band, formed in Bristol, England, in December 1979. They had moderate success throughout Europe and Asia in the early 1980s, during the heyday of the new wave of British heavy metal movement.', 0.51]\n",
      "['Jaguar is the luxury vehicle brand of Jaguar Land Rover, a British multinational car manufacturer with its headquarters in Whitley, Coventry, England.', 0.86]\n"
     ]
    }
   ],
   "source": [
    "import re\n",
    "\n",
    "#A non-diversified result list for the query \"Jaguar\". Each result list entry contains a short document and the corresponding relevance score.\n",
    "ranked_list = [[\"The official home of Jaguar USA. Explore our luxury sedans, SUVs and sports cars.\", 0.99],\n",
    "\t\t[\"Discover the different language sites we have to make browsing our vehicle range's easier.\", 0.94],\n",
    "\t\t[\"Jaguar is the luxury vehicle brand of Jaguar Land Rover, a British multinational car manufacturer with its headquarters in Whitley, Coventry, England.\", 0.86],\n",
    "\t\t[\"Jaguar has been making luxurious sedans and athletic sports cars for decades, but more recently it has added crossovers and SUVs that continue to perpetuate these trademark attributes.\", 0.82],\n",
    "\t\t[\"This storied British luxury and sports car brand is famous for striking looks, agility, ride comfort, and powerful engines.\", 0.80],\n",
    "\t\t[\"Used Jaguar for Sale. Search new and used cars, research vehicle models, and compare cars.\", 0.79],\n",
    "\t\t[\"Jaguar is a premium automaker whose historic resonance is matched by few others.\", 0.78],\n",
    "\t\t[\"What new Jaguar should you buy? With rankings, reviews, and specs of Jaguar vehicles, we are here to help you find your perfect car.\", 0.76],\n",
    "\t\t[\"Some Jaguar models have supercharged V8 engines and sharp handling, from sports cars like the F-Type to sporty SUVs like the F-Pace.\", 0.75],\n",
    "\t\t[\"In 2008, Tata Motors purchased both Jaguar Cars and Land Rover.\", 0.73],\n",
    "\t\t[\"The jaguar (Panthera onca) is a large felid species and the only living member of the genus Panthera native to the Americas.\", 0.72],\n",
    "\t\t[\"The Jaguar was an aircraft engine developed by Armstrong Siddeley.\", 0.70],\n",
    "\t\t[\"Jaguar is a superhero first published in 1961 by Archie Comics. He was created by writer Robert Bernstein and artist John Rosenberger as part of Archie's 'Archie Adventure Series'.\", 0.63],\n",
    "\t\t[\"Jaguar are an English heavy metal band, formed in Bristol, England, in December 1979. They had moderate success throughout Europe and Asia in the early 1980s, during the heyday of the new wave of British heavy metal movement.\", 0.51],\n",
    "\t\t[\"The Atari Jaguar is a home video game console developed by Atari Corporation and released in North America in November 1993.\", 0.47]]\n",
    "\n",
    "#Measure the average relevance of a (partial) result list. \n",
    "def measure_relevance(ranking):\n",
    "\trelevance = 0.0\n",
    "\n",
    "\tfor doc in ranking:\n",
    "\t\trelevance += doc[1]\n",
    "\n",
    "\treturn relevance/len(ranking)\n",
    "\n",
    "def bag_of_words(text):\n",
    "    # Remove punctuation\n",
    "    text = re.sub(r'[^\\w\\s]', '', text)\n",
    "    # Tokenize the text\n",
    "    return text.lower().split()\n",
    "\n",
    "\n",
    "# Measure the average diversity of a (partial) result list. \n",
    "# Count the number of unique terms in a ranked list and divide that number by the length of that list.\n",
    "def measure_diversity(ranking):\n",
    "\tdiversity = 0.0\n",
    "\n",
    "\tfor doc in ranking:\n",
    "\t\twords = bag_of_words(doc[0])\n",
    "\t\tdiversity += len(set(words))\n",
    "\n",
    "\treturn diversity/len(ranking)\n",
    "\n",
    "# Re-rank an existing ranked list to increase diversity and \n",
    "# return the top k items of that ranking. \n",
    "# The parameter l controls the importance of relevance scores vs. diversity.\n",
    "def diversify(ranking, k, l):\n",
    "\treranked = []\n",
    "\t# append doc ofranking with highest relenvance score using max function\n",
    "\treranked.append(max(ranking, key=lambda x: x[1]))\n",
    "\t# remove the doc with highest relevance score from the ranking\n",
    "\tranking.remove(max(ranking, key=lambda x: x[1]))\n",
    "\n",
    "\twhile len(reranked) < k:\n",
    "\t\ttemp = (0, 0)\n",
    "\t\tfor idx, doc in enumerate(ranking):\n",
    "\t\t\treranked.append(doc)\n",
    "\t\t\tscore = l * doc[1] + (1-l) * measure_diversity(reranked)\n",
    "\n",
    "\t\t\tif score > temp[1]:\n",
    "\t\t\t\ttemp = [idx, score]\n",
    "\t\t\treranked.pop()\n",
    "\t\treranked.append(ranking[temp[0]])\n",
    "\t\tranking.pop(temp[0])\t\n",
    "\t\t\t\n",
    "\treturn reranked\n",
    "\n",
    "for doc in diversify(ranked_list, 4, 0.9):\n",
    "\tprint(doc)"
   ]
  },
  {
   "attachments": {},
   "cell_type": "markdown",
   "metadata": {},
   "source": [
    "# 2. Training Data Selection\n",
    "\n",
    "You want to develop a supervised ranker in the following way:\n",
    "* You index your collection.\n",
    "* You formulate a training set of 100 queries.\n",
    "* You use a basic statistical ranker such as BM25 to find the top 10 documents for each query.\n",
    "* You ask human annotators to manually rate the relevance of each top-rated document.\n",
    "* You use the resulting 1,000 relevance judgments to train your supervised ranker.\n",
    "\n",
    "This scheme leaves you with three types of training examples:\n",
    "* Documents that the human judges marked `relevant`.\n",
    "* Documents that the human judges marked `non-relevant`.\n",
    "* Documents that were not judged because they were not in the pre-retrieved top 10.\n",
    "\n",
    "Which type(s) of examples do you include in your model training? Discuss the advantages and disadvantages of each type of training examples."
   ]
  },
  {
   "attachments": {},
   "cell_type": "markdown",
   "metadata": {},
   "source": []
  }
 ],
 "metadata": {
  "kernelspec": {
   "display_name": "Python 3",
   "language": "python",
   "name": "python3"
  },
  "language_info": {
   "codemirror_mode": {
    "name": "ipython",
    "version": 3
   },
   "file_extension": ".py",
   "mimetype": "text/x-python",
   "name": "python",
   "nbconvert_exporter": "python",
   "pygments_lexer": "ipython3",
   "version": "3.10.14"
  },
  "orig_nbformat": 4
 },
 "nbformat": 4,
 "nbformat_minor": 2
}
