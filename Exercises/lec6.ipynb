{
 "cells": [
  {
   "cell_type": "code",
   "execution_count": null,
   "metadata": {},
   "outputs": [],
   "source": [
    "#Run PageRank on an inlink-coded Web graph for a specified number of rounds.\n",
    "def pageRank(graph, rounds):\n",
    "    current_graph = graph\n",
    "    for i in range(rounds):\n",
    "        new_graph = {}\n",
    "        \n",
    "        #Loop through all nodes\n",
    "        for node in current_graph:\n",
    "            weight = 0\n",
    "            \n",
    "            #Update node score\n",
    "            for inlink in current_graph[node][2]:\n",
    "                weight += current_graph[inlink][0]/current_graph[inlink][1]\n",
    "            new_graph[node] = [weight, current_graph[node][1], current_graph[node][2]]\n",
    "        \n",
    "        #Begin new iteration\n",
    "        current_graph = new_graph\n",
    "    return current_graph\n",
    "        "
   ]
  },
  {
   "cell_type": "code",
   "execution_count": null,
   "metadata": {},
   "outputs": [],
   "source": [
    "#Represent the web graph via [0] current weight, [1] out degree, [2] incoming links\n",
    "inlinks = {'A': [1, 2, ['C']],\n",
    "           'B': [1, 0, ['A', 'C', 'D']],\n",
    "           'C': [1, 3, ['A', 'D']],\n",
    "           'D': [1, 3, ['F']],\n",
    "           'E': [1, 0, ['D']],\n",
    "           'F': [1, 1, ['C']]}\n",
    "\n",
    "graph = pageRank(inlinks, 3)\n",
    "for page in graph:\n",
    "    print(page+': '+str(graph[page][0]))"
   ]
  }
 ],
 "metadata": {
  "kernelspec": {
   "display_name": "Python 3",
   "language": "python",
   "name": "python3"
  },
  "language_info": {
   "codemirror_mode": {
    "name": "ipython",
    "version": 3
   },
   "file_extension": ".py",
   "mimetype": "text/x-python",
   "name": "python",
   "nbconvert_exporter": "python",
   "pygments_lexer": "ipython3",
   "version": "3.7.3"
  }
 },
 "nbformat": 4,
 "nbformat_minor": 4
}
