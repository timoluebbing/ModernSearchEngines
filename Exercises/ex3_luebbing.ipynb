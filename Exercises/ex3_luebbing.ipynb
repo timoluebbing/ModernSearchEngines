{
 "cells": [
  {
   "attachments": {},
   "cell_type": "markdown",
   "metadata": {},
   "source": [
    "# INFO 4271 - Exercise 3 - Indexing\n",
    "\n",
    "Issued: April 30, 2024\n",
    "\n",
    "Due: May 6, 2024\n",
    "\n",
    "Please submit this filled sheet via Ilias by the due date.\n",
    "\n",
    "---"
   ]
  },
  {
   "attachments": {},
   "cell_type": "markdown",
   "metadata": {},
   "source": [
    "# 1. Skip Pointers\n",
    "Skip pointers can be used to accelerate posting list intersection, allowing pointers to be moved either to the next sequential list position or to the position of the skip pointer if one is available.\n",
    "\n",
    "a) Implement the `intersect\\_skip()` function sketched below. Each time you would ordinarily increment a pointer by one, you can alternatively follow a skip pointer, if one is available at the position."
   ]
  },
  {
   "cell_type": "code",
   "execution_count": 9,
   "metadata": {},
   "outputs": [
    {
     "name": "stdout",
     "output_type": "stream",
     "text": [
      "[12, 23]\n"
     ]
    }
   ],
   "source": [
    "#Intersect two sorted posting lists that contain skip pointers\n",
    "def intersect_skip(A, B):\n",
    "    res = []\n",
    "    pointer_a, pointer_b = 0, 0\n",
    "    \n",
    "    while pointer_a < len(A) and pointer_b < len(B):\n",
    "        \n",
    "        # If the docID at the current index of A is equal to \n",
    "        # the docID at the current index of B, \n",
    "        # add it to the result and move both pointers forward\n",
    "        if A[pointer_a][0] == B[pointer_b][0]:\n",
    "            res.append(A[pointer_a][0])\n",
    "            pointer_a += 1\n",
    "            pointer_b += 1\n",
    "        \n",
    "        # cur docID in A < cur docID in B\n",
    "        elif A[pointer_a][0] < B[pointer_b][0]:\n",
    "            # No skip pointer or skip pointer too far\n",
    "            if A[pointer_a][1] is None or A[pointer_a][2] > B[pointer_b][0]:\n",
    "                pointer_a += 1\n",
    "            # Move pointer to the skip pointer\n",
    "            else:\n",
    "                pointer_a = A[pointer_a][1]\n",
    "        # cur docID in B < cur docID in A\n",
    "        else:\n",
    "            # Same thing\n",
    "            if B[pointer_b][1] is None or B[pointer_b][2] > A[pointer_a][0]:\n",
    "                pointer_b += 1\n",
    "            else:\n",
    "                pointer_b = B[pointer_b][1]\n",
    "\n",
    "    return res\n",
    "\n",
    "#Posting lists with skip pointers. \n",
    "#Entries take the form [docID, index to skip to, docID at that index]\n",
    "times_skip = [[2, 3, 16], [12, None, None], [15, None, None], [16, 6, 27], [17, None, None], [23, None, None], [27, None, None]]\n",
    "square_skip = [[3, 2, 12], [8, None, None], [12, 4, 23], [19, None, None], [23, None, None]]\n",
    "\n",
    "print(intersect_skip(times_skip, square_skip))"
   ]
  },
  {
   "attachments": {},
   "cell_type": "markdown",
   "metadata": {},
   "source": [
    "b) How many pointer increment operations did you need to intersect the two posting lists with the given skip pointers? How many operations would it have been for the same lists without skip pointers?"
   ]
  },
  {
   "attachments": {},
   "cell_type": "markdown",
   "metadata": {},
   "source": [
    "Using skip pointers, we reduce the number of operations by 1 as we can jump from document 3 to document 12 in B. Overall this results in 6 increment operations instead of 7. "
   ]
  },
  {
   "attachments": {},
   "cell_type": "markdown",
   "metadata": {},
   "source": [
    "# 2. Positional Indices\n",
    "Positional indices include for each posting the exact positions at which the term can be found in the document. This information allows us to satisfy two previously impossible types of queries. 1) Phrase queries require terms to occur adjacently to one another in a specific order. 2) Range queries allow for more leeway between term positions, merely requiring the two terms to appear within a specified number of tokens.\n",
    "\n",
    "Implement the `intersect\\_range()` function sketched in the code base. Each time you would ordinarily have reported a match, you will now need to check whether the range requirement is satisfied. As an optional addition, think about making this range check efficient using some of the techniques discussed for general posting list intersection."
   ]
  },
  {
   "cell_type": "code",
   "execution_count": 10,
   "metadata": {},
   "outputs": [
    {
     "name": "stdout",
     "output_type": "stream",
     "text": [
      "[23]\n",
      "[12, 23]\n"
     ]
    }
   ],
   "source": [
    "#Intersect two sorted posting lists with document-internal proximity requirements.\n",
    "def intersect_range(A, B, range):\n",
    "    pointer_a, pointer_b = 0, 0\n",
    "    res = []\n",
    "    \n",
    "    while pointer_a < len(A) and pointer_b < len(B):\n",
    "        if A[pointer_a][0] == B[pointer_b][0]:\n",
    "            # match -> check if positions are in range\n",
    "            for pos_a in A[pointer_a][1]:\n",
    "                for pos_b in B[pointer_b][1]:\n",
    "                    if abs(pos_a - pos_b) <= range:\n",
    "                        res.append(A[pointer_a][0])\n",
    "                        break\n",
    "            pointer_a += 1\n",
    "            pointer_b += 1\n",
    "        \n",
    "        elif A[pointer_a][0] < B[pointer_b][0]:\n",
    "            pointer_a += 1\n",
    "        else:\n",
    "            pointer_b += 1\n",
    "            \n",
    "    return res\n",
    "\n",
    "def intersect_range_efficient(A, B, range):\n",
    "    # Todo: later practice...\n",
    "    pass\n",
    "\n",
    "#Posting lists with document-internal positional information.\n",
    "#Entries take the form [docID, [pos1, pos2, ...]]\n",
    "times_range = [[2, [15, 128]], [12, [6, 45, 89, 942]], [15, [13]], [16, [1276, 1500]], [17, [13, 89, 90]], [23, [17, 64]], [27, [456, 629]]]\n",
    "square_range = [[3, [65, 90]], [8, [67, 94]], [12, [3]], [19, [18, 81, 1881]], [23, [63]]]\n",
    "\n",
    "print(intersect_range(times_range, square_range, 2))\n",
    "print(intersect_range(times_range, square_range, 3))"
   ]
  },
  {
   "attachments": {},
   "cell_type": "markdown",
   "metadata": {},
   "source": [
    "# 3. Paper Pick\n",
    "Don't forget to submit your paper pick at https://forms.gle/JNnd1V7k1L3uPVxU6."
   ]
  }
 ],
 "metadata": {
  "kernelspec": {
   "display_name": "Python 3",
   "language": "python",
   "name": "python3"
  },
  "language_info": {
   "codemirror_mode": {
    "name": "ipython",
    "version": 3
   },
   "file_extension": ".py",
   "mimetype": "text/x-python",
   "name": "python",
   "nbconvert_exporter": "python",
   "pygments_lexer": "ipython3",
   "version": "3.10.14"
  },
  "orig_nbformat": 4
 },
 "nbformat": 4,
 "nbformat_minor": 2
}
