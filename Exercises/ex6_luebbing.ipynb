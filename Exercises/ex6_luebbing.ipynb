{
 "cells": [
  {
   "attachments": {},
   "cell_type": "markdown",
   "metadata": {},
   "source": [
    "# INFO 4271 - Exercise 6 - Link Analysis\n",
    "\n",
    "Issued: May 28, 2024\n",
    "\n",
    "Due: June 3rd, 2024\n",
    "\n",
    "Please submit this filled sheet via Ilias by the due date.\n",
    "\n",
    "---"
   ]
  },
  {
   "attachments": {},
   "cell_type": "markdown",
   "metadata": {},
   "source": [
    "# 1. Co-Linking Similarity \n",
    "The directed graph of resource pointers (e.g., hyperlinks on the Internet, or citations in academic publishing) implicitly encodes topic information but can be much cheaper to process than the content words of the individual documents.\n",
    "\n",
    "a) Implement a document similarity measure based only on graph topology, assuming that documents are similar if they link to similar documents."
   ]
  },
  {
   "cell_type": "code",
   "execution_count": 5,
   "metadata": {},
   "outputs": [
    {
     "name": "stdout",
     "output_type": "stream",
     "text": [
      "\tD1\tD2\tD3\tD4\tD5\tD6\tD7\tD8\tD9\tD10\tD11\tD12\tD13\tD14\tD15\tD16\tD17\tD18\tD19\tD20\t\n",
      "D1\t1.0\t0.0\t0.167\t0.25\t0.0\t0.0\t0.0\t0.077\t0.0\t0.25\t0.0\t0.167\t0.0\t0.333\t0.0\t0.25\t0.0\t0.25\t0.0\t0.0\t\n",
      "D2\t0.0\t1.0\t0.0\t0.0\t0.0\t0.0\t0.0\t0.071\t0.0\t0.0\t0.333\t0.0\t0.0\t0.0\t0.333\t0.0\t0.286\t0.0\t0.0\t0.0\t\n",
      "D3\t0.167\t0.0\t1.0\t0.143\t0.0\t0.125\t0.167\t0.214\t0.0\t0.333\t0.0\t0.111\t0.333\t0.167\t0.0\t0.0\t0.1\t0.143\t0.0\t0.0\t\n",
      "D4\t0.25\t0.0\t0.143\t1.0\t0.2\t0.0\t0.0\t0.25\t0.0\t0.2\t0.0\t0.143\t0.2\t0.667\t0.0\t0.2\t0.0\t1.0\t0.0\t0.0\t\n",
      "D5\t0.0\t0.0\t0.0\t0.2\t1.0\t0.167\t0.0\t0.154\t0.0\t0.0\t0.0\t0.0\t0.2\t0.25\t0.0\t0.2\t0.0\t0.2\t0.0\t0.0\t\n",
      "D6\t0.0\t0.0\t0.125\t0.0\t0.167\t1.0\t0.2\t0.143\t0.0\t0.0\t0.0\t0.0\t0.0\t0.0\t0.0\t0.0\t0.111\t0.0\t0.0\t0.25\t\n",
      "D7\t0.0\t0.0\t0.167\t0.0\t0.0\t0.2\t1.0\t0.167\t0.0\t0.25\t0.0\t0.0\t0.0\t0.0\t0.0\t0.0\t0.0\t0.0\t0.0\t0.0\t\n",
      "D8\t0.077\t0.071\t0.214\t0.25\t0.154\t0.143\t0.167\t1.0\t0.0\t0.25\t0.0\t0.214\t0.071\t0.167\t0.0\t0.154\t0.125\t0.25\t0.0\t0.0\t\n",
      "D9\t0.0\t0.0\t0.0\t0.0\t0.0\t0.0\t0.0\t0.0\t0.0\t0.0\t0.0\t0.0\t0.0\t0.0\t0.0\t0.0\t0.0\t0.0\t0.0\t0.0\t\n",
      "D10\t0.25\t0.0\t0.333\t0.2\t0.0\t0.0\t0.25\t0.25\t0.0\t1.0\t0.0\t0.0\t0.0\t0.25\t0.0\t0.0\t0.125\t0.2\t0.0\t0.0\t\n",
      "D11\t0.0\t0.333\t0.0\t0.0\t0.0\t0.0\t0.0\t0.0\t0.0\t0.0\t1.0\t0.0\t0.0\t0.0\t0.0\t0.0\t0.167\t0.0\t0.0\t0.0\t\n",
      "D12\t0.167\t0.0\t0.111\t0.143\t0.0\t0.0\t0.0\t0.214\t0.0\t0.0\t0.0\t1.0\t0.143\t0.0\t0.0\t0.143\t0.1\t0.143\t0.0\t0.0\t\n",
      "D13\t0.0\t0.0\t0.333\t0.2\t0.2\t0.0\t0.0\t0.071\t0.0\t0.0\t0.0\t0.143\t1.0\t0.25\t0.0\t0.2\t0.125\t0.2\t0.0\t0.0\t\n",
      "D14\t0.333\t0.0\t0.167\t0.667\t0.25\t0.0\t0.0\t0.167\t0.0\t0.25\t0.0\t0.0\t0.25\t1.0\t0.0\t0.25\t0.0\t0.667\t0.0\t0.0\t\n",
      "D15\t0.0\t0.333\t0.0\t0.0\t0.0\t0.0\t0.0\t0.0\t0.0\t0.0\t0.0\t0.0\t0.0\t0.0\t1.0\t0.0\t0.167\t0.0\t0.0\t0.0\t\n",
      "D16\t0.25\t0.0\t0.0\t0.2\t0.2\t0.0\t0.0\t0.154\t0.0\t0.0\t0.0\t0.143\t0.2\t0.25\t0.0\t1.0\t0.0\t0.2\t0.0\t0.0\t\n",
      "D17\t0.0\t0.286\t0.1\t0.0\t0.0\t0.111\t0.0\t0.125\t0.0\t0.125\t0.167\t0.1\t0.125\t0.0\t0.167\t0.0\t1.0\t0.0\t0.0\t0.167\t\n",
      "D18\t0.25\t0.0\t0.143\t1.0\t0.2\t0.0\t0.0\t0.25\t0.0\t0.2\t0.0\t0.143\t0.2\t0.667\t0.0\t0.2\t0.0\t1.0\t0.0\t0.0\t\n",
      "D19\t0.0\t0.0\t0.0\t0.0\t0.0\t0.0\t0.0\t0.0\t0.0\t0.0\t0.0\t0.0\t0.0\t0.0\t0.0\t0.0\t0.0\t0.0\t0.0\t0.0\t\n",
      "D20\t0.0\t0.0\t0.0\t0.0\t0.0\t0.25\t0.0\t0.0\t0.0\t0.0\t0.0\t0.0\t0.0\t0.0\t0.0\t0.0\t0.167\t0.0\t0.0\t1.0\t\n"
     ]
    }
   ],
   "source": [
    "#An example graph topology. Each entry represents a document \n",
    "# alongside the outgoing links found in its content. \n",
    "graph = {'D1' : ['D14', 'D16'],\n",
    "\t\t 'D2' : ['D5', 'D6', 'D7'],\n",
    "\t\t 'D3' : ['D4', 'D14', 'D15', 'D18', 'D19'],\n",
    "\t\t 'D4' : ['D2', 'D9', 'D14'],\n",
    "\t\t 'D5' : ['D2', 'D8', 'D17'],\n",
    "\t\t 'D6' : ['D3', 'D8', 'D12', 'D15'],\n",
    "\t\t 'D7' : ['D3', 'D19'],\n",
    "\t\t 'D8' : ['D1', 'D2', 'D3', 'D5', 'D9', 'D10', 'D11', 'D13', 'D14', 'D15', 'D17', 'D19'],\n",
    "\t\t 'D9' : [],\n",
    "\t\t 'D10' : ['D1', 'D14', 'D19'],\n",
    "\t\t 'D11' : ['D6'],\n",
    "\t\t 'D12' : ['D9', 'D11', 'D13', 'D16', 'D18'],\n",
    "\t\t 'D13' : ['D2', 'D4', 'D18'],\n",
    "\t\t 'D14' : ['D2', 'D14'],\n",
    "\t\t 'D15' : ['D7'],\n",
    "\t\t 'D16' : ['D2', 'D10', 'D16'],\n",
    "\t\t 'D17' : ['D1', 'D4', 'D6', 'D7', 'D11', 'D12'],\n",
    "\t\t 'D18' : ['D2', 'D9', 'D14'],\n",
    "\t\t 'D19' : [],\n",
    "\t\t 'D20' : ['D12']\n",
    "\t\t}\n",
    "\n",
    "#Measure the similarity between two documents x and y in a graph based on their outgoing links. \n",
    "def sim_out(x, y, graph):\n",
    "    \n",
    "\tout_x = set(graph[x])\n",
    "\tout_y = set(graph[y])\n",
    "\t\n",
    "\tunion = len(out_x.union(out_y))\n",
    "\tif union == 0:\n",
    "\t\treturn 0.0\n",
    "\n",
    "\tintersection = len(out_x.intersection(out_y))\n",
    "\t\n",
    "\treturn round(intersection/union, 3)\n",
    "    \n",
    "\n",
    "#Print a document simialrity matrix \n",
    "l = '\\t'\n",
    "for doc in graph:\n",
    "\tl += doc+'\\t'\n",
    "print(l)\n",
    "for doc in graph:\n",
    "\tl = doc+'\\t'\n",
    "\tfor d in graph:\n",
    "\t\tl += str(sim_out(doc, d, graph))+'\\t'\n",
    "\tprint(l)"
   ]
  },
  {
   "attachments": {},
   "cell_type": "markdown",
   "metadata": {},
   "source": [
    "b) Now let us modify the above scheme to also use the documents' incoming links in the calculation of the similarity score."
   ]
  },
  {
   "cell_type": "code",
   "execution_count": 8,
   "metadata": {},
   "outputs": [
    {
     "name": "stdout",
     "output_type": "stream",
     "text": [
      "\tD1\tD2\tD3\tD4\tD5\tD6\tD7\tD8\tD9\tD10\tD11\tD12\tD13\tD14\tD15\tD16\tD17\tD18\tD19\tD20\t\n",
      "D1\t1.0\t0.071\t0.182\t0.222\t0.111\t0.091\t0.111\t0.056\t0.125\t0.25\t0.286\t0.182\t0.111\t0.273\t0.125\t0.1\t0.083\t0.1\t0.286\t0.0\t\n",
      "D2\t0.071\t1.0\t0.059\t0.067\t0.071\t0.0\t0.0\t0.091\t0.273\t0.154\t0.167\t0.0\t0.071\t0.267\t0.167\t0.067\t0.286\t0.067\t0.077\t0.0\t\n",
      "D3\t0.182\t0.059\t1.0\t0.077\t0.083\t0.071\t0.083\t0.222\t0.091\t0.3\t0.091\t0.143\t0.3\t0.133\t0.2\t0.0\t0.143\t0.077\t0.2\t0.0\t\n",
      "D4\t0.222\t0.067\t0.077\t1.0\t0.1\t0.083\t0.1\t0.176\t0.0\t0.1\t0.111\t0.167\t0.1\t0.25\t0.111\t0.091\t0.0\t0.714\t0.111\t0.0\t\n",
      "D5\t0.111\t0.071\t0.083\t0.1\t1.0\t0.2\t0.111\t0.118\t0.125\t0.111\t0.125\t0.0\t0.25\t0.167\t0.125\t0.1\t0.083\t0.1\t0.125\t0.0\t\n",
      "D6\t0.091\t0.0\t0.071\t0.083\t0.2\t1.0\t0.333\t0.105\t0.0\t0.0\t0.1\t0.071\t0.0\t0.0\t0.0\t0.0\t0.071\t0.0\t0.0\t0.143\t\n",
      "D7\t0.111\t0.0\t0.083\t0.1\t0.111\t0.333\t1.0\t0.118\t0.0\t0.111\t0.125\t0.083\t0.0\t0.0\t0.0\t0.0\t0.0\t0.0\t0.0\t0.0\t\n",
      "D8\t0.056\t0.091\t0.222\t0.176\t0.118\t0.105\t0.118\t1.0\t0.0\t0.188\t0.0\t0.222\t0.056\t0.095\t0.059\t0.111\t0.158\t0.176\t0.0\t0.0\t\n",
      "D9\t0.125\t0.273\t0.091\t0.0\t0.125\t0.0\t0.0\t0.0\t1.0\t0.125\t0.333\t0.0\t0.286\t0.3\t0.143\t0.111\t0.091\t0.111\t0.143\t0.0\t\n",
      "D10\t0.25\t0.154\t0.3\t0.1\t0.111\t0.0\t0.111\t0.188\t0.125\t1.0\t0.125\t0.0\t0.111\t0.167\t0.125\t0.1\t0.182\t0.1\t0.125\t0.0\t\n",
      "D11\t0.286\t0.167\t0.091\t0.111\t0.125\t0.1\t0.125\t0.0\t0.333\t0.125\t1.0\t0.091\t0.286\t0.083\t0.143\t0.111\t0.2\t0.111\t0.143\t0.0\t\n",
      "D12\t0.182\t0.0\t0.143\t0.167\t0.0\t0.071\t0.083\t0.222\t0.0\t0.0\t0.091\t1.0\t0.083\t0.0\t0.091\t0.077\t0.067\t0.077\t0.0\t0.0\t\n",
      "D13\t0.111\t0.071\t0.3\t0.1\t0.25\t0.0\t0.0\t0.056\t0.286\t0.111\t0.286\t0.083\t1.0\t0.167\t0.125\t0.222\t0.182\t0.222\t0.125\t0.0\t\n",
      "D14\t0.273\t0.267\t0.133\t0.25\t0.167\t0.0\t0.0\t0.095\t0.3\t0.167\t0.083\t0.0\t0.167\t1.0\t0.182\t0.154\t0.062\t0.25\t0.3\t0.0\t\n",
      "D15\t0.125\t0.167\t0.2\t0.111\t0.125\t0.0\t0.0\t0.059\t0.143\t0.125\t0.143\t0.091\t0.125\t0.182\t1.0\t0.0\t0.2\t0.111\t0.333\t0.0\t\n",
      "D16\t0.1\t0.067\t0.0\t0.091\t0.1\t0.0\t0.0\t0.111\t0.111\t0.1\t0.111\t0.077\t0.222\t0.154\t0.0\t1.0\t0.0\t0.2\t0.0\t0.0\t\n",
      "D17\t0.083\t0.286\t0.143\t0.0\t0.083\t0.071\t0.0\t0.158\t0.091\t0.182\t0.2\t0.067\t0.182\t0.062\t0.2\t0.0\t1.0\t0.0\t0.091\t0.125\t\n",
      "D18\t0.1\t0.067\t0.077\t0.714\t0.1\t0.0\t0.0\t0.176\t0.111\t0.1\t0.111\t0.077\t0.222\t0.25\t0.111\t0.2\t0.0\t1.0\t0.111\t0.0\t\n",
      "D19\t0.286\t0.077\t0.2\t0.111\t0.125\t0.0\t0.0\t0.0\t0.143\t0.125\t0.143\t0.0\t0.125\t0.3\t0.333\t0.0\t0.091\t0.111\t1.0\t0.0\t\n",
      "D20\t0.0\t0.0\t0.0\t0.0\t0.0\t0.143\t0.0\t0.0\t0.0\t0.0\t0.0\t0.0\t0.0\t0.0\t0.0\t0.0\t0.125\t0.0\t0.0\t1.0\t\n"
     ]
    }
   ],
   "source": [
    "from collections import defaultdict\n",
    "\n",
    "def incoming(graph) -> dict:\n",
    "    \n",
    "    in_graph = defaultdict(list)\n",
    "    \n",
    "    for in_doc, out_docs in graph.items():\n",
    "        for out_doc in out_docs:\n",
    "            in_graph[out_doc].append(in_doc)\n",
    "            \n",
    "    return in_graph\n",
    "            \n",
    "\n",
    "#Measure the similarity between two documents x and y in a graph based on their incoming and outgoing links. \n",
    "def sim_inout(x, y, graph):\n",
    "\n",
    "\tin_graph = incoming(graph=graph)\n",
    "\n",
    "\tout_x, out_y = set(graph[x]), set(graph[y])\n",
    "\tin_x, in_y = set(in_graph[x]), set(in_graph[y])\n",
    "\n",
    "\tout_union = len(out_x.union(out_y))\n",
    "\tin_union = len(in_x.union(in_y))\n",
    "\tunion = out_union + in_union\n",
    "\t\n",
    "\tif union == 0:\n",
    "\t\treturn 0.0\n",
    "\n",
    "\tout_intersection = len(out_x.intersection(out_y))\n",
    "\tin_intersection = len(in_x.intersection(in_y))\n",
    "\tintersection = out_intersection + in_intersection\n",
    "\n",
    "\treturn round(intersection / union, 3)\n",
    "\n",
    "#Print a document simialrity matrix \n",
    "l = '\\t'\n",
    "for doc in graph:\n",
    "\tl += doc+'\\t'\n",
    "print(l)\n",
    "for doc in graph:\n",
    "\tl = doc+'\\t'\n",
    "\tfor d in graph:\n",
    "\t\tl += str(sim_inout(doc, d, graph))+'\\t'\n",
    "\tprint(l)"
   ]
  },
  {
   "attachments": {},
   "cell_type": "markdown",
   "metadata": {},
   "source": [
    "c) Discuss the differences between these two simialrity score variants. What are the salient advantages and disadvantages they offer?"
   ]
  },
  {
   "attachments": {},
   "cell_type": "markdown",
   "metadata": {},
   "source": [
    "Advantages of out only:\n",
    "- Its computationally less expensive as it only considers the outgoing links.\n",
    "- It can provide a quick measure of similarity based on the graph structure (topology).\n",
    "\n",
    "Disadvantages:\n",
    "- It may not capture the full context of document similarity as it ignores the incoming links:  An example would be a \"hub\" that has very few outgoing links but lots of incoming links from different topics.\n",
    "\n",
    "Advantages of in-out:\n",
    "- It captures the relationships between documents from both directions, providing a more accurate measure of similarity. (Above example)\n",
    "\n",
    "Disadvantages:\n",
    "- It requires more computational resources as it considers both incoming and outgoing links."
   ]
  },
  {
   "attachments": {},
   "cell_type": "markdown",
   "metadata": {},
   "source": [
    "# 2. PageRank\n",
    "\n",
    "The PageRank algorithm models page authoritativeness. Is it robust to tempering? Can you think of ways to game the PageRank scheme and give your website an artificially high score? What are ways to defend against such attacks?"
   ]
  },
  {
   "attachments": {},
   "cell_type": "markdown",
   "metadata": {},
   "source": [
    "Possible exploits: \n",
    "\n",
    "\n",
    "- You could buy backlinks from other high-ranking webpages to boost your own PageRank. You cannot defend against theses schemes directly but the quality of the webpage linking your website for money will do this indirectly. \n",
    "  \n",
    "- Groups of websites (link farms) that all hyperlink to every other site in the group. This will artificially inflate the pagerank score. Yet simple algorithms will always find these link farms through clustering methods during crawling (or the pagerank algorithm) after some time. \n",
    "\n",
    "- Hidden links: Include invisible hyperlinks that only crawlers will see but not the user. Search engines could use automated detection algorithms that e.g. find links hidden in small characters or other anomalies. "
   ]
  }
 ],
 "metadata": {
  "kernelspec": {
   "display_name": "Python 3",
   "language": "python",
   "name": "python3"
  },
  "language_info": {
   "codemirror_mode": {
    "name": "ipython",
    "version": 3
   },
   "file_extension": ".py",
   "mimetype": "text/x-python",
   "name": "python",
   "nbconvert_exporter": "python",
   "pygments_lexer": "ipython3",
   "version": "3.10.14"
  },
  "orig_nbformat": 4
 },
 "nbformat": 4,
 "nbformat_minor": 2
}
