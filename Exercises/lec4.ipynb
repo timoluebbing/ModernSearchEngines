{
 "cells": [
  {
   "cell_type": "code",
   "execution_count": 1,
   "metadata": {
    "metadata": {}
   },
   "outputs": [],
   "source": [
    "import numpy as np\n",
    "from scipy.spatial import distance\n",
    "\n",
    "#Enumerates all terms in a collection of documents\n",
    "def compileVocab(D):\n",
    "    vocab = {}\n",
    "    #Index all terms in the collection\n",
    "    for d in D:\n",
    "        for w in d.split(' '):\n",
    "            if not w in vocab:\n",
    "                vocab[w] = len(vocab) # first term is 0, second is 1, etc. -> at indexing time\n",
    "    return vocab\n",
    "\n",
    "#Turn a string of text into a TF vector. Also at indexing time\n",
    "def vectorize(txt, vocab):    \n",
    "    #Turn documents into vectors\n",
    "    vec = np.zeros(len(vocab), dtype=int)\n",
    "    for w in txt.split(' '):\n",
    "        vec[vocab[w]] += 1\n",
    "    return vec\n",
    "\n",
    "#Rank a collection of documents relative to a query\n",
    "def rank(Q, D):\n",
    "    vocab = compileVocab(D)\n",
    "    v_q = vectorize(Q, vocab)\n",
    "    ranking = []\n",
    "    \n",
    "    #Compute cosine distance between query and documents\n",
    "    for d in D:\n",
    "        score = distance.cosine(v_q, vectorize(d, vocab))\n",
    "        ranking.append((d, score))\n",
    "        \n",
    "    ranking.sort(key=lambda x:x[1])\n",
    "    return ranking\n",
    "        "
   ]
  },
  {
   "cell_type": "code",
   "execution_count": 2,
   "metadata": {
    "metadata": {}
   },
   "outputs": [
    {
     "name": "stdout",
     "output_type": "stream",
     "text": [
      "[('french is a very french language spoken by the french', 0.4696699141100894), ('the french bulldog is a small breed of domestic dog', 0.5527864045000421), ('the french revolution was a period of upheaval in france', 0.7763932022500211)]\n"
     ]
    }
   ],
   "source": [
    "Q = 'french bulldog'\n",
    "D = ['the french revolution was a period of upheaval in france', \n",
    "     'the french bulldog is a small breed of domestic dog', \n",
    "     'french is a very french language spoken by the french']\n",
    "print(rank(Q, D))\n",
    "\n",
    "# Smaller is better, 3 x french is best because we only use tf and not tfidf"
   ]
  }
 ],
 "metadata": {
  "kernelspec": {
   "display_name": "Python 3",
   "language": "python",
   "name": "python3"
  },
  "language_info": {
   "codemirror_mode": {
    "name": "ipython",
    "version": 3
   },
   "file_extension": ".py",
   "mimetype": "text/x-python",
   "name": "python",
   "nbconvert_exporter": "python",
   "pygments_lexer": "ipython3",
   "version": "3.10.14"
  }
 },
 "nbformat": 4,
 "nbformat_minor": 4
}
